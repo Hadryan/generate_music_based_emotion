{
 "cells": [
  {
   "cell_type": "code",
   "execution_count": 2,
   "metadata": {},
   "outputs": [],
   "source": [
    "import os\n",
    "import shutil\n",
    "import random\n",
    "import json\n",
    "from midi2audio import FluidSynth\n",
    "\n",
    "import numpy as np\n",
    "import tensorflow as tf\n",
    "from tensorflow import keras\n",
    "\n",
    "import pydub\n",
    "from pydub import AudioSegment\n",
    "\n",
    "import librosa\n",
    "import random"
   ]
  },
  {
   "cell_type": "code",
   "execution_count": 2,
   "metadata": {},
   "outputs": [],
   "source": [
    "available_list = {}\n",
    "train_list = []\n",
    "test_list = []\n",
    "\n",
    "with open(r'C:\\Users\\Arnold\\Desktop\\4560\\CNN\\dataset\\400-100-dataset\\list.json', 'r') as f:\n",
    "    available_list = json.load(f)\n",
    "\n",
    "train_list = available_list['train']\n",
    "test_list = available_list['test']"
   ]
  },
  {
   "cell_type": "code",
   "execution_count": 3,
   "metadata": {},
   "outputs": [],
   "source": [
    "work_dir = r'C:\\Users\\Arnold\\Desktop\\4560\\CNN\\dataset\\mid-aud-to-midi-bearaudiotool.com-mp3-to-midi'\n",
    "train_dir = r'C:\\Users\\Arnold\\Desktop\\4560\\MusicVAE\\DEAM\\400-100\\train'\n",
    "test_dir =  r'C:\\Users\\Arnold\\Desktop\\4560\\MusicVAE\\DEAM\\400-100\\test'\n",
    "\n",
    "for parent, dirnames, filenames in os.walk(work_dir,  followlinks=True):\n",
    "    for filename in filenames:\n",
    "        if filename.endswith(\".mid\"):\n",
    "            index = os.path.splitext(os.path.splitext(filename)[0])[0]\n",
    "            if str(index) in train_list:\n",
    "                shutil.copy(parent+'\\\\'+filename, train_dir+'\\\\'+filename)\n",
    "            if str(index) in test_list:\n",
    "                shutil.copy(parent+'\\\\'+filename, test_dir+'\\\\'+filename)  "
   ]
  },
  {
   "cell_type": "code",
   "execution_count": 25,
   "metadata": {},
   "outputs": [
    {
     "name": "stdout",
     "output_type": "stream",
     "text": [
      "[]\n",
      "[]\n"
     ]
    }
   ],
   "source": [
    "build_train_dataset = r'convert_dir_to_note_sequences  --input_dir='+train_dir+r' --output_file='+train_dir+r'\\_train.tfrecord  --recursive'\n",
    "build_test_dataset  = r'convert_dir_to_note_sequences  --input_dir='+test_dir +r' --output_file='+test_dir +r'\\_test.tfrecord  --recursive'\n",
    "\n",
    "print(os.popen(build_test_dataset).readlines())\n",
    "print(os.popen(build_train_dataset).readlines())"
   ]
  },
  {
   "cell_type": "code",
   "execution_count": 6,
   "metadata": {},
   "outputs": [],
   "source": [
    "config = r'cat-mel_2bar_small'\n",
    "run_dir = r'C:\\Users\\Arnold\\Desktop\\4560\\MusicVAE\\DEAM\\400-100'+'\\\\'+config+'\\\\'\n",
    "train_dir = r'C:\\Users\\Arnold\\Desktop\\4560\\MusicVAE\\DEAM\\400-100\\train'\n",
    "checkpoint_file = r'C:\\Users\\Arnold\\Desktop\\4560\\MusicVAE\\DEAM\\400-100\\cat-mel_2bar_small\\train'"
   ]
  },
  {
   "cell_type": "code",
   "execution_count": 7,
   "metadata": {},
   "outputs": [],
   "source": [
    "# vae_train = r'music_vae_train \\\n",
    "# --config='+config+r' \\\n",
    "# --run_dir='+run_dir+r' \\\n",
    "# --mode=train \\\n",
    "# --tfds_name='+ train_dir +r'\\_train.tfrecord'\n",
    "\n",
    "# print(os.popen(vae_train).readlines())\n",
    "\n",
    "# it would not work, run it by .bat and cmd."
   ]
  },
  {
   "cell_type": "code",
   "execution_count": 6,
   "metadata": {},
   "outputs": [],
   "source": [
    "# here should be a midi split loop. However cannot find such one.\n",
    "interMusic_1 = r'C:\\Users\\Arnold\\Desktop\\4560\\MusicVAE\\DEAM\\practice\\59.mp3.mid'\n",
    "interMusic_2 = r'C:\\Users\\Arnold\\Desktop\\4560\\MusicVAE\\DEAM\\practice\\89.mp3.mid'\n",
    "output_dir = r'C:\\Users\\Arnold\\Desktop\\4560\\MusicVAE\\DEAM\\practice\\output'"
   ]
  },
  {
   "cell_type": "code",
   "execution_count": 15,
   "metadata": {},
   "outputs": [
    {
     "name": "stdout",
     "output_type": "stream",
     "text": [
      "['5 valid inputs extracted from `C:\\\\Users\\\\Arnold\\\\Desktop\\\\4560\\\\MusicVAE\\\\DEAM\\\\practice\\\\59.mp3.mid`. Outputting these potential inputs as `C:\\\\Users\\\\Arnold\\\\Desktop\\\\4560\\\\MusicVAE\\\\DEAM\\\\practice\\\\output\\\\cat-mel_2bar_small_input1-extractions_2020-10-16_010019-*-of-005.mid`. Call script again with one of these instead.\\n']\n"
     ]
    }
   ],
   "source": [
    "music_interpolate = r'music_vae_generate \\\n",
    "--config='+config+r' \\\n",
    "--checkpoint_file='+checkpoint_file+r' \\\n",
    "--mode=interpolate \\\n",
    "--num_outputs=5 \\\n",
    "--input_midi_1='+interMusic_1 +r' \\\n",
    "--input_midi_2='+interMusic_2 +r' \\\n",
    "--output_dir='+output_dir\n",
    "\n",
    "print(os.popen(music_interpolate).readlines())"
   ]
  },
  {
   "cell_type": "code",
   "execution_count": 36,
   "metadata": {
    "collapsed": true
   },
   "outputs": [
    {
     "name": "stdout",
     "output_type": "stream",
     "text": [
      "C:\\Users\\Arnold\\Desktop\\4560\\MusicVAE\\DEAM\\practice\\output\\cat-mel_2bar_small_input1-extractions_2020-10-16_010019-000-of-005.mid\n"
     ]
    },
    {
     "ename": "FileNotFoundError",
     "evalue": "[WinError 2] 系统找不到指定的文件。",
     "output_type": "error",
     "traceback": [
      "\u001b[1;31m---------------------------------------------------------------------------\u001b[0m",
      "\u001b[1;31mFileNotFoundError\u001b[0m                         Traceback (most recent call last)",
      "\u001b[1;32m<ipython-input-36-5e7efc977266>\u001b[0m in \u001b[0;36m<module>\u001b[1;34m()\u001b[0m\n\u001b[0;32m      4\u001b[0m             \u001b[0mindex\u001b[0m \u001b[1;33m=\u001b[0m \u001b[0mos\u001b[0m\u001b[1;33m.\u001b[0m\u001b[0mpath\u001b[0m\u001b[1;33m.\u001b[0m\u001b[0msplitext\u001b[0m\u001b[1;33m(\u001b[0m\u001b[0mfilename\u001b[0m\u001b[1;33m)\u001b[0m\u001b[1;33m[\u001b[0m\u001b[1;36m0\u001b[0m\u001b[1;33m]\u001b[0m\u001b[1;33m\u001b[0m\u001b[0m\n\u001b[0;32m      5\u001b[0m             \u001b[0mprint\u001b[0m\u001b[1;33m(\u001b[0m\u001b[0mos\u001b[0m\u001b[1;33m.\u001b[0m\u001b[0mpath\u001b[0m\u001b[1;33m.\u001b[0m\u001b[0mjoin\u001b[0m\u001b[1;33m(\u001b[0m\u001b[0moutput_dir\u001b[0m\u001b[1;33m,\u001b[0m \u001b[0mfilename\u001b[0m\u001b[1;33m)\u001b[0m\u001b[1;33m)\u001b[0m\u001b[1;33m\u001b[0m\u001b[0m\n\u001b[1;32m----> 6\u001b[1;33m             \u001b[0mFluidSynth\u001b[0m\u001b[1;33m(\u001b[0m\u001b[1;33m)\u001b[0m\u001b[1;33m.\u001b[0m\u001b[0mmidi_to_audio\u001b[0m\u001b[1;33m(\u001b[0m\u001b[0mos\u001b[0m\u001b[1;33m.\u001b[0m\u001b[0mpath\u001b[0m\u001b[1;33m.\u001b[0m\u001b[0mjoin\u001b[0m\u001b[1;33m(\u001b[0m\u001b[0moutput_dir\u001b[0m\u001b[1;33m,\u001b[0m \u001b[0mfilename\u001b[0m\u001b[1;33m)\u001b[0m\u001b[1;33m,\u001b[0m\u001b[0mos\u001b[0m\u001b[1;33m.\u001b[0m\u001b[0mpath\u001b[0m\u001b[1;33m.\u001b[0m\u001b[0mjoin\u001b[0m\u001b[1;33m(\u001b[0m\u001b[0moutput_dir\u001b[0m\u001b[1;33m,\u001b[0m\u001b[0mindex\u001b[0m\u001b[1;33m+\u001b[0m\u001b[1;34m'.wav'\u001b[0m\u001b[1;33m)\u001b[0m\u001b[1;33m)\u001b[0m\u001b[1;33m\u001b[0m\u001b[0m\n\u001b[0m",
      "\u001b[1;32mE:\\anaconda3\\lib\\site-packages\\midi2audio.py\u001b[0m in \u001b[0;36mmidi_to_audio\u001b[1;34m(self, midi_file, audio_file)\u001b[0m\n\u001b[0;32m     44\u001b[0m \u001b[1;33m\u001b[0m\u001b[0m\n\u001b[0;32m     45\u001b[0m     \u001b[1;32mdef\u001b[0m \u001b[0mmidi_to_audio\u001b[0m\u001b[1;33m(\u001b[0m\u001b[0mself\u001b[0m\u001b[1;33m,\u001b[0m \u001b[0mmidi_file\u001b[0m\u001b[1;33m,\u001b[0m \u001b[0maudio_file\u001b[0m\u001b[1;33m)\u001b[0m\u001b[1;33m:\u001b[0m\u001b[1;33m\u001b[0m\u001b[0m\n\u001b[1;32m---> 46\u001b[1;33m         \u001b[0msubprocess\u001b[0m\u001b[1;33m.\u001b[0m\u001b[0mcall\u001b[0m\u001b[1;33m(\u001b[0m\u001b[1;33m[\u001b[0m\u001b[1;34m'fluidsynth'\u001b[0m\u001b[1;33m,\u001b[0m \u001b[1;34m'-ni'\u001b[0m\u001b[1;33m,\u001b[0m \u001b[0mself\u001b[0m\u001b[1;33m.\u001b[0m\u001b[0msound_font\u001b[0m\u001b[1;33m,\u001b[0m \u001b[0mmidi_file\u001b[0m\u001b[1;33m,\u001b[0m \u001b[1;34m'-F'\u001b[0m\u001b[1;33m,\u001b[0m \u001b[0maudio_file\u001b[0m\u001b[1;33m,\u001b[0m \u001b[1;34m'-r'\u001b[0m\u001b[1;33m,\u001b[0m \u001b[0mstr\u001b[0m\u001b[1;33m(\u001b[0m\u001b[0mself\u001b[0m\u001b[1;33m.\u001b[0m\u001b[0msample_rate\u001b[0m\u001b[1;33m)\u001b[0m\u001b[1;33m]\u001b[0m\u001b[1;33m)\u001b[0m\u001b[1;33m\u001b[0m\u001b[0m\n\u001b[0m\u001b[0;32m     47\u001b[0m \u001b[1;33m\u001b[0m\u001b[0m\n\u001b[0;32m     48\u001b[0m     \u001b[1;32mdef\u001b[0m \u001b[0mplay_midi\u001b[0m\u001b[1;33m(\u001b[0m\u001b[0mself\u001b[0m\u001b[1;33m,\u001b[0m \u001b[0mmidi_file\u001b[0m\u001b[1;33m)\u001b[0m\u001b[1;33m:\u001b[0m\u001b[1;33m\u001b[0m\u001b[0m\n",
      "\u001b[1;32mE:\\anaconda3\\lib\\subprocess.py\u001b[0m in \u001b[0;36mcall\u001b[1;34m(timeout, *popenargs, **kwargs)\u001b[0m\n\u001b[0;32m    265\u001b[0m     \u001b[0mretcode\u001b[0m \u001b[1;33m=\u001b[0m \u001b[0mcall\u001b[0m\u001b[1;33m(\u001b[0m\u001b[1;33m[\u001b[0m\u001b[1;34m\"ls\"\u001b[0m\u001b[1;33m,\u001b[0m \u001b[1;34m\"-l\"\u001b[0m\u001b[1;33m]\u001b[0m\u001b[1;33m)\u001b[0m\u001b[1;33m\u001b[0m\u001b[0m\n\u001b[0;32m    266\u001b[0m     \"\"\"\n\u001b[1;32m--> 267\u001b[1;33m     \u001b[1;32mwith\u001b[0m \u001b[0mPopen\u001b[0m\u001b[1;33m(\u001b[0m\u001b[1;33m*\u001b[0m\u001b[0mpopenargs\u001b[0m\u001b[1;33m,\u001b[0m \u001b[1;33m**\u001b[0m\u001b[0mkwargs\u001b[0m\u001b[1;33m)\u001b[0m \u001b[1;32mas\u001b[0m \u001b[0mp\u001b[0m\u001b[1;33m:\u001b[0m\u001b[1;33m\u001b[0m\u001b[0m\n\u001b[0m\u001b[0;32m    268\u001b[0m         \u001b[1;32mtry\u001b[0m\u001b[1;33m:\u001b[0m\u001b[1;33m\u001b[0m\u001b[0m\n\u001b[0;32m    269\u001b[0m             \u001b[1;32mreturn\u001b[0m \u001b[0mp\u001b[0m\u001b[1;33m.\u001b[0m\u001b[0mwait\u001b[0m\u001b[1;33m(\u001b[0m\u001b[0mtimeout\u001b[0m\u001b[1;33m=\u001b[0m\u001b[0mtimeout\u001b[0m\u001b[1;33m)\u001b[0m\u001b[1;33m\u001b[0m\u001b[0m\n",
      "\u001b[1;32mE:\\anaconda3\\lib\\subprocess.py\u001b[0m in \u001b[0;36m__init__\u001b[1;34m(self, args, bufsize, executable, stdin, stdout, stderr, preexec_fn, close_fds, shell, cwd, env, universal_newlines, startupinfo, creationflags, restore_signals, start_new_session, pass_fds, encoding, errors)\u001b[0m\n\u001b[0;32m    707\u001b[0m                                 \u001b[0mc2pread\u001b[0m\u001b[1;33m,\u001b[0m \u001b[0mc2pwrite\u001b[0m\u001b[1;33m,\u001b[0m\u001b[1;33m\u001b[0m\u001b[0m\n\u001b[0;32m    708\u001b[0m                                 \u001b[0merrread\u001b[0m\u001b[1;33m,\u001b[0m \u001b[0merrwrite\u001b[0m\u001b[1;33m,\u001b[0m\u001b[1;33m\u001b[0m\u001b[0m\n\u001b[1;32m--> 709\u001b[1;33m                                 restore_signals, start_new_session)\n\u001b[0m\u001b[0;32m    710\u001b[0m         \u001b[1;32mexcept\u001b[0m\u001b[1;33m:\u001b[0m\u001b[1;33m\u001b[0m\u001b[0m\n\u001b[0;32m    711\u001b[0m             \u001b[1;31m# Cleanup if the child failed starting.\u001b[0m\u001b[1;33m\u001b[0m\u001b[1;33m\u001b[0m\u001b[0m\n",
      "\u001b[1;32mE:\\anaconda3\\lib\\subprocess.py\u001b[0m in \u001b[0;36m_execute_child\u001b[1;34m(self, args, executable, preexec_fn, close_fds, pass_fds, cwd, env, startupinfo, creationflags, shell, p2cread, p2cwrite, c2pread, c2pwrite, errread, errwrite, unused_restore_signals, unused_start_new_session)\u001b[0m\n\u001b[0;32m    995\u001b[0m                                          \u001b[0menv\u001b[0m\u001b[1;33m,\u001b[0m\u001b[1;33m\u001b[0m\u001b[0m\n\u001b[0;32m    996\u001b[0m                                          \u001b[0mos\u001b[0m\u001b[1;33m.\u001b[0m\u001b[0mfspath\u001b[0m\u001b[1;33m(\u001b[0m\u001b[0mcwd\u001b[0m\u001b[1;33m)\u001b[0m \u001b[1;32mif\u001b[0m \u001b[0mcwd\u001b[0m \u001b[1;32mis\u001b[0m \u001b[1;32mnot\u001b[0m \u001b[1;32mNone\u001b[0m \u001b[1;32melse\u001b[0m \u001b[1;32mNone\u001b[0m\u001b[1;33m,\u001b[0m\u001b[1;33m\u001b[0m\u001b[0m\n\u001b[1;32m--> 997\u001b[1;33m                                          startupinfo)\n\u001b[0m\u001b[0;32m    998\u001b[0m             \u001b[1;32mfinally\u001b[0m\u001b[1;33m:\u001b[0m\u001b[1;33m\u001b[0m\u001b[0m\n\u001b[0;32m    999\u001b[0m                 \u001b[1;31m# Child is launched. Close the parent's copy of those pipe\u001b[0m\u001b[1;33m\u001b[0m\u001b[1;33m\u001b[0m\u001b[0m\n",
      "\u001b[1;31mFileNotFoundError\u001b[0m: [WinError 2] 系统找不到指定的文件。"
     ]
    }
   ],
   "source": [
    "for parent, dirnames, filenames in os.walk(output_dir,  followlinks=True):\n",
    "    for filename in filenames:\n",
    "        if filename.endswith(\".mid\"):\n",
    "            index = os.path.splitext(filename)[0]\n",
    "            print(os.path.join(output_dir, filename))\n",
    "            FluidSynth().midi_to_audio(os.path.join(output_dir, filename),os.path.join(output_dir,index+'.wav'))"
   ]
  },
  {
   "cell_type": "code",
   "execution_count": 4,
   "metadata": {},
   "outputs": [],
   "source": [
    "model = keras.models.load_model(r'C:\\Users\\Arnold\\Desktop\\4560\\CNN\\best_crnn')"
   ]
  },
  {
   "cell_type": "code",
   "execution_count": 8,
   "metadata": {},
   "outputs": [
    {
     "name": "stdout",
     "output_type": "stream",
     "text": [
      "C:\\Users\\Arnold\\Desktop\\4560\\MusicVAE\\DEAM\\practice\\output\\cat-mel_2bar_small_input1-extractions_2020-10-16_010019-000-of-005.wav\n"
     ]
    },
    {
     "name": "stderr",
     "output_type": "stream",
     "text": [
      "E:\\anaconda3\\lib\\site-packages\\ipykernel_launcher.py:27: DeprecationWarning: elementwise comparison failed; this will raise an error in the future.\n",
      "E:\\anaconda3\\lib\\site-packages\\ipykernel_launcher.py:34: DeprecationWarning: elementwise comparison failed; this will raise an error in the future.\n"
     ]
    },
    {
     "name": "stdout",
     "output_type": "stream",
     "text": [
      "-0.3332752814749256 -0.18409335642354563\n",
      "C:\\Users\\Arnold\\Desktop\\4560\\MusicVAE\\DEAM\\practice\\output\\cat-mel_2bar_small_input1-extractions_2020-10-16_010019-003-of-005.wav\n",
      "-0.25157697290160286 -0.19144662251346745\n",
      "C:\\Users\\Arnold\\Desktop\\4560\\MusicVAE\\DEAM\\practice\\output\\cat-mel_2bar_small_input1-extractions_2020-10-16_010019-004-of-005.wav\n",
      "-0.36904659878928214 -0.4114235248416662\n"
     ]
    }
   ],
   "source": [
    "\n",
    "for parent, dirnames, filenames in os.walk(output_dir,  followlinks=True):\n",
    "    for filename in filenames:\n",
    "        if filename.endswith(\".wav\"):\n",
    "            index = os.path.splitext(filename)[0]\n",
    "            print(os.path.join(output_dir, filename))\n",
    "            wavsong = AudioSegment.from_wav(os.path.join(output_dir, filename))\n",
    "            \n",
    "            one_data = []\n",
    "            test_data = []\n",
    "\n",
    "            # mel freq\n",
    "            for i in range(4):\n",
    "                outputpath = os.path.join(output_dir,index+'-'+str(i)+\".wav\")\n",
    "                wavsong[(500*i):(500+500*i)].export(outputpath, format=\"wav\")\n",
    "                y, sr = librosa.load(outputpath, sr=None)\n",
    "                os.remove(outputpath)\n",
    "\n",
    "                fragment = np.array(\n",
    "                                np.log(\n",
    "                                    librosa.feature.melspectrogram(\n",
    "                                        y, sr, n_mels=128,n_fft=int(sr*0.5), hop_length=int(sr*1)\n",
    "                                    )\n",
    "                                ).transpose())\n",
    "                fragment = fragment[np.newaxis,:]\n",
    "\n",
    "                if one_data==[]:\n",
    "                    one_data = fragment.copy()                    \n",
    "                else:\n",
    "                    one_data = np.vstack([one_data,fragment.copy()])\n",
    "            \n",
    "            # self repliction\n",
    "            for i in range(15):\n",
    "                if test_data==[]:\n",
    "                    test_data = one_data.copy()                    \n",
    "                else:\n",
    "                    test_data = np.vstack([one_data,test_data.copy()])                    \n",
    "                    \n",
    "            # crnn test\n",
    "            test_data = test_data.reshape(1,60,128,1)\n",
    "            predict_va = model.predict(test_data)\n",
    "            print(sum(sum(predict_va[0])/60),sum(sum(predict_va[1])/60))"
   ]
  },
  {
   "cell_type": "code",
   "execution_count": null,
   "metadata": {},
   "outputs": [],
   "source": []
  }
 ],
 "metadata": {
  "kernelspec": {
   "display_name": "Python 3",
   "language": "python",
   "name": "python3"
  },
  "language_info": {
   "codemirror_mode": {
    "name": "ipython",
    "version": 3
   },
   "file_extension": ".py",
   "mimetype": "text/x-python",
   "name": "python",
   "nbconvert_exporter": "python",
   "pygments_lexer": "ipython3",
   "version": "3.6.5"
  }
 },
 "nbformat": 4,
 "nbformat_minor": 2
}
