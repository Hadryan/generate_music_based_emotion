{
 "cells": [
  {
   "cell_type": "code",
   "execution_count": 2,
   "metadata": {},
   "outputs": [],
   "source": [
    "import os\n",
    "import shutil\n",
    "import random\n",
    "import json\n",
    "from midi2audio import FluidSynth\n",
    "\n",
    "import numpy as np\n",
    "import tensorflow as tf\n",
    "from tensorflow import keras\n",
    "\n",
    "import pydub\n",
    "from pydub import AudioSegment\n",
    "\n",
    "import librosa\n",
    "import random"
   ]
  },
  {
   "cell_type": "code",
   "execution_count": 1,
   "metadata": {},
   "outputs": [],
   "source": [
    "# this function will print the output of cmd ON TIME\n",
    "# ref: https://lumeng.blog.csdn.net/article/details/104845611\n",
    "def runCMD(cmd):\n",
    "    screenData = subprocess.Popen(cmd, stdout=subprocess.PIPE, stderr=subprocess.STDOUT, shell=True)\n",
    "    while True:\n",
    "        line = screenData.stdout.readline()\n",
    "        print(line.decode('gbk').strip(\"b'\"))\n",
    "        if line == b'' or subprocess.Popen.poll(screenData) == 0:\n",
    "            screenData.stdout.close()\n",
    "            break"
   ]
  },
  {
   "cell_type": "code",
   "execution_count": 2,
   "metadata": {},
   "outputs": [],
   "source": [
    "available_list = {}\n",
    "train_list = []\n",
    "test_list = []\n",
    "\n",
    "with open(r'C:\\Users\\Arnold\\Desktop\\4560\\CNN\\dataset\\400-100-dataset\\list.json', 'r') as f:\n",
    "    available_list = json.load(f)\n",
    "\n",
    "train_list = available_list['train']\n",
    "test_list = available_list['test']"
   ]
  },
  {
   "cell_type": "code",
   "execution_count": 3,
   "metadata": {},
   "outputs": [],
   "source": [
    "work_dir = r'C:\\Users\\Arnold\\Desktop\\4560\\CNN\\dataset\\mid-aud-to-midi-bearaudiotool.com-mp3-to-midi'\n",
    "train_dir = r'C:\\Users\\Arnold\\Desktop\\4560\\MusicVAE\\DEAM\\400-100\\train'\n",
    "test_dir =  r'C:\\Users\\Arnold\\Desktop\\4560\\MusicVAE\\DEAM\\400-100\\test'\n",
    "\n",
    "for parent, dirnames, filenames in os.walk(work_dir,  followlinks=True):\n",
    "    for filename in filenames:\n",
    "        if filename.endswith(\".mid\"):\n",
    "            index = os.path.splitext(os.path.splitext(filename)[0])[0]\n",
    "            if str(index) in train_list:\n",
    "                shutil.copy(parent+'\\\\'+filename, train_dir+'\\\\'+filename)\n",
    "            if str(index) in test_list:\n",
    "                shutil.copy(parent+'\\\\'+filename, test_dir+'\\\\'+filename)  "
   ]
  },
  {
   "cell_type": "code",
   "execution_count": 25,
   "metadata": {},
   "outputs": [
    {
     "name": "stdout",
     "output_type": "stream",
     "text": [
      "[]\n",
      "[]\n"
     ]
    }
   ],
   "source": [
    "build_train_dataset = r'convert_dir_to_note_sequences  --input_dir='+train_dir+r' --output_file='+train_dir+r'\\_train.tfrecord  --recursive'\n",
    "build_test_dataset  = r'convert_dir_to_note_sequences  --input_dir='+test_dir +r' --output_file='+test_dir +r'\\_test.tfrecord  --recursive'\n",
    "\n",
    "print(os.popen(build_test_dataset).readlines())\n",
    "print(os.popen(build_train_dataset).readlines())"
   ]
  },
  {
   "cell_type": "code",
   "execution_count": 6,
   "metadata": {},
   "outputs": [],
   "source": [
    "config = r'cat-mel_2bar_small'\n",
    "run_dir = r'C:\\Users\\Arnold\\Desktop\\4560\\MusicVAE\\DEAM\\400-100'+'\\\\'+config+'\\\\'\n",
    "train_dir = r'C:\\Users\\Arnold\\Desktop\\4560\\MusicVAE\\DEAM\\400-100\\train'\n",
    "checkpoint_file = r'C:\\Users\\Arnold\\Desktop\\4560\\MusicVAE\\DEAM\\400-100\\cat-mel_2bar_small\\train'"
   ]
  },
  {
   "cell_type": "code",
   "execution_count": 7,
   "metadata": {},
   "outputs": [],
   "source": [
    "# TODO: test this cell\n",
    "\n",
    "vae_train = r'music_vae_train \\\n",
    "--config={config} \\\n",
    "--run_dir={run_dir} \\\n",
    "--mode=train \\\n",
    "--tfds_name={train_dir}_train.tfrecord'\n",
    "\n",
    "runCMD(vae_train.format(config=config, run_dir=run_dir, train_dir=train_dir))"
   ]
  }
 ],
 "metadata": {
  "kernelspec": {
   "display_name": "Python 3",
   "language": "python",
   "name": "python3"
  },
  "language_info": {
   "codemirror_mode": {
    "name": "ipython",
    "version": 3
   },
   "file_extension": ".py",
   "mimetype": "text/x-python",
   "name": "python",
   "nbconvert_exporter": "python",
   "pygments_lexer": "ipython3",
   "version": "3.6.5"
  }
 },
 "nbformat": 4,
 "nbformat_minor": 2
}
