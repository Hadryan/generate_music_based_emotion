{
 "cells": [
  {
   "cell_type": "code",
   "execution_count": 1,
   "metadata": {},
   "outputs": [],
   "source": [
    "import pretty_midi\n",
    "import numpy as np\n",
    "import matplotlib.pyplot as plt\n",
    "import os\n",
    "import math\n",
    "import numpy as np\n",
    "np.set_printoptions(threshold=np.inf)\n",
    "\n",
    "import time\n",
    "\n",
    "import numpy as np\n",
    "import tensorflow as tf\n",
    "from tensorflow import keras\n",
    "from tensorflow.keras import layers"
   ]
  },
  {
   "cell_type": "code",
   "execution_count": 2,
   "metadata": {
    "code_folding": [
     0
    ]
   },
   "outputs": [],
   "source": [
    "#validata\n",
    "with open(r'C:\\Users\\Arnold\\Desktop\\4560\\CNN\\dataset\\400-100-dataset\\midi_crnn.json','r') as load_f:\n",
    "    dataset = json.load(load_f)\n",
    "    validate_1 = np.asarray(dataset[\"y_v_train\"])\n",
    "                            \n",
    "with open(r'C:\\Users\\Arnold\\Desktop\\4560\\CNN\\dataset\\400-100-dataset\\wav_crnn.json','r') as load_f:\n",
    "    dataset = json.load(load_f)\n",
    "    validate_2 = np.asarray(dataset[\"y_v_train\"])"
   ]
  },
  {
   "cell_type": "code",
   "execution_count": 3,
   "metadata": {
    "code_folding": [
     0
    ]
   },
   "outputs": [
    {
     "name": "stdout",
     "output_type": "stream",
     "text": [
      "True\n"
     ]
    }
   ],
   "source": [
    "#validate\n",
    "validate_2 = validate_2.reshape(validate_1.shape)\n",
    "print((validate_1==validate_2).all())"
   ]
  },
  {
   "cell_type": "code",
   "execution_count": 4,
   "metadata": {},
   "outputs": [],
   "source": [
    "# midi crnn - load dataset\n",
    "import json\n",
    "with open(r'C:\\Users\\Arnold\\Desktop\\4560\\CNN\\dataset\\400-100-dataset\\midi_crnn.json','r') as load_f:\n",
    "    dataset = json.load(load_f)\n",
    "    x_train = np.asarray(dataset[\"x_train\"])\n",
    "    x_test = np.asarray(dataset[\"x_test\"])\n",
    "    y_a_train = np.asarray(dataset[\"y_a_train\"])\n",
    "    y_a_test = np.asarray(dataset[\"y_a_test\"])\n",
    "    y_v_train = np.asarray(dataset[\"y_v_train\"])\n",
    "    y_v_test = np.asarray(dataset[\"y_v_test\"])\n",
    "\n",
    "# data reshape\n",
    "x_train = x_train.reshape(400,60,128,1)\n",
    "x_test = x_test.reshape(100,60,128,1)\n",
    "y_a_train = y_a_train.reshape(400,60)\n",
    "y_a_test = y_a_test.reshape(100,60)\n",
    "y_v_train = y_v_train.reshape(400,60)\n",
    "y_v_test = y_v_test.reshape(100,60)"
   ]
  },
  {
   "cell_type": "code",
   "execution_count": 5,
   "metadata": {
    "code_folding": []
   },
   "outputs": [
    {
     "name": "stdout",
     "output_type": "stream",
     "text": [
      "Model: \"model\"\n",
      "__________________________________________________________________________________________________\n",
      "Layer (type)                    Output Shape         Param #     Connected to                     \n",
      "==================================================================================================\n",
      "input_1 (InputLayer)            [(None, 60, 128, 1)] 0                                            \n",
      "__________________________________________________________________________________________________\n",
      "conv2d (Conv2D)                 (None, 60, 128, 8)   80          input_1[0][0]                    \n",
      "__________________________________________________________________________________________________\n",
      "batch_normalization (BatchNorma (None, 60, 128, 8)   32          conv2d[0][0]                     \n",
      "__________________________________________________________________________________________________\n",
      "reshape (Reshape)               (None, 60, 1024)     0           batch_normalization[0][0]        \n",
      "__________________________________________________________________________________________________\n",
      "dense (Dense)                   (None, 60, 8)        8200        reshape[0][0]                    \n",
      "__________________________________________________________________________________________________\n",
      "dense_2 (Dense)                 (None, 60, 8)        8200        reshape[0][0]                    \n",
      "__________________________________________________________________________________________________\n",
      "bidirectional (Bidirectional)   (None, 60, 16)       864         dense[0][0]                      \n",
      "__________________________________________________________________________________________________\n",
      "bidirectional_1 (Bidirectional) (None, 60, 16)       864         dense_2[0][0]                    \n",
      "__________________________________________________________________________________________________\n",
      "dense_1 (Dense)                 (None, 60, 1)        17          bidirectional[0][0]              \n",
      "__________________________________________________________________________________________________\n",
      "dense_3 (Dense)                 (None, 60, 1)        17          bidirectional_1[0][0]            \n",
      "__________________________________________________________________________________________________\n",
      "flatten (Flatten)               (None, 60)           0           dense_1[0][0]                    \n",
      "__________________________________________________________________________________________________\n",
      "flatten_1 (Flatten)             (None, 60)           0           dense_3[0][0]                    \n",
      "==================================================================================================\n",
      "Total params: 18,274\n",
      "Trainable params: 18,258\n",
      "Non-trainable params: 16\n",
      "__________________________________________________________________________________________________\n"
     ]
    }
   ],
   "source": [
    "# crnn - model\n",
    "def Crnn(conv_filters=8,vaDense = 8,Gru=8):\n",
    "    input_data = layers.Input((60, 128,1))\n",
    "    x = layers.Conv2D(conv_filters, 3, activation='relu', padding=\"same\")(input_data)\n",
    "    x = layers.BatchNormalization()(x)\n",
    "    x = layers.Reshape((60,128*conv_filters))(x)\n",
    "\n",
    "    arousal = layers.Dense(vaDense, activation='linear')(x)\n",
    "    arousal = layers.Bidirectional(layers.GRU(Gru,return_sequences = True,activation = 'tanh'))(arousal)\n",
    "    arousal = layers.Dense(1, activation='linear')(arousal)\n",
    "    arousal = layers.Flatten()(arousal)\n",
    "\n",
    "    volence = layers.Dense(vaDense, activation='linear')(x)\n",
    "    volence = layers.Bidirectional(layers.GRU(Gru,return_sequences = True,activation = 'tanh'))(volence)\n",
    "    volence = layers.Dense(1, activation='linear')(volence)\n",
    "    volence = layers.Flatten()(volence)\n",
    "\n",
    "    model = keras.Model(inputs=input_data, outputs=[arousal, volence])\n",
    "    \n",
    "    model.compile(loss = [\"mean_squared_error\",\"mean_squared_error\"], optimizer='adam')\n",
    "    \n",
    "    #model.summary()\n",
    "    return model\n",
    "model_crnn = Crnn()\n",
    "model_crnn.summary()"
   ]
  },
  {
   "cell_type": "code",
   "execution_count": 7,
   "metadata": {
    "code_folding": []
   },
   "outputs": [],
   "source": [
    "# wav crnn - load dataset\n",
    "import json\n",
    "with open(r'C:\\Users\\Arnold\\Desktop\\4560\\CNN\\dataset\\400-100-dataset\\wav_crnn.json','r') as load_f:\n",
    "    dataset = json.load(load_f)\n",
    "    x_train = np.asarray(dataset[\"x_train\"])\n",
    "    x_test = np.asarray(dataset[\"x_test\"])\n",
    "    y_a_train = np.asarray(dataset[\"y_a_train\"])\n",
    "    y_a_test = np.asarray(dataset[\"y_a_test\"])\n",
    "    y_v_train = np.asarray(dataset[\"y_v_train\"])\n",
    "    y_v_test = np.asarray(dataset[\"y_v_test\"])\n",
    "    \n",
    "x_train = x_train.reshape(400,60,128,1)\n",
    "x_test = x_test.reshape(100,60,128,1)\n",
    "y_a_train = y_a_train.reshape(400,60)\n",
    "y_a_test = y_a_test.reshape(100,60)\n",
    "y_v_train = y_v_train.reshape(400,60)\n",
    "y_v_test = y_v_test.reshape(100,60)"
   ]
  },
  {
   "cell_type": "code",
   "execution_count": 8,
   "metadata": {
    "code_folding": []
   },
   "outputs": [
    {
     "name": "stdout",
     "output_type": "stream",
     "text": [
      "Fri Oct 16 01:44:00 2020\n",
      "loss on c_f= 8 , vaDense= 8 , Gru= 8 , batch= 5 is:  0.09834641128778458\n",
      "Fri Oct 16 01:45:13 2020 \n",
      "\n",
      "min loss= 0.09834641128778458\n",
      "loss on c_f= 8 , vaDense= 8 , Gru= 8 , batch= 10 is:  0.09176312774419784\n",
      "Fri Oct 16 01:46:09 2020 \n",
      "\n",
      "min loss= 0.09176312774419784\n",
      "loss on c_f= 8 , vaDense= 8 , Gru= 8 , batch= 15 is:  0.09082274198532105\n",
      "Fri Oct 16 01:47:11 2020 \n",
      "\n",
      "min loss= 0.09082274198532105\n",
      "loss on c_f= 8 , vaDense= 8 , Gru= 16 , batch= 5 is:  0.09723028868436813\n",
      "Fri Oct 16 01:48:24 2020 \n",
      "\n",
      "loss on c_f= 8 , vaDense= 8 , Gru= 16 , batch= 10 is:  0.09043815776705742\n",
      "Fri Oct 16 01:49:17 2020 \n",
      "\n",
      "min loss= 0.09043815776705742\n",
      "loss on c_f= 8 , vaDense= 8 , Gru= 16 , batch= 15 is:  0.08522278517484665\n",
      "Fri Oct 16 01:50:10 2020 \n",
      "\n",
      "min loss= 0.08522278517484665\n",
      "loss on c_f= 8 , vaDense= 8 , Gru= 32 , batch= 5 is:  0.08594090431928635\n",
      "Fri Oct 16 01:51:19 2020 \n",
      "\n",
      "loss on c_f= 8 , vaDense= 8 , Gru= 32 , batch= 10 is:  0.09787791728973388\n",
      "Fri Oct 16 01:52:12 2020 \n",
      "\n",
      "loss on c_f= 8 , vaDense= 8 , Gru= 32 , batch= 15 is:  0.08532405346632004\n",
      "Fri Oct 16 01:53:03 2020 \n",
      "\n",
      "loss on c_f= 8 , vaDense= 16 , Gru= 8 , batch= 5 is:  0.09689383149147034\n",
      "Fri Oct 16 01:54:09 2020 \n",
      "\n",
      "loss on c_f= 8 , vaDense= 16 , Gru= 8 , batch= 10 is:  0.09315272152423859\n",
      "Fri Oct 16 01:54:59 2020 \n",
      "\n",
      "loss on c_f= 8 , vaDense= 16 , Gru= 8 , batch= 15 is:  0.09514153152704238\n",
      "Fri Oct 16 01:55:47 2020 \n",
      "\n",
      "loss on c_f= 8 , vaDense= 16 , Gru= 16 , batch= 5 is:  0.09553735584020615\n",
      "Fri Oct 16 01:56:55 2020 \n",
      "\n",
      "loss on c_f= 8 , vaDense= 16 , Gru= 16 , batch= 10 is:  0.10043822824954987\n",
      "Fri Oct 16 01:57:43 2020 \n",
      "\n",
      "loss on c_f= 8 , vaDense= 16 , Gru= 16 , batch= 15 is:  0.09162242412567138\n",
      "Fri Oct 16 01:58:32 2020 \n",
      "\n",
      "loss on c_f= 8 , vaDense= 16 , Gru= 32 , batch= 5 is:  0.09611736983060837\n",
      "Fri Oct 16 01:59:42 2020 \n",
      "\n",
      "loss on c_f= 8 , vaDense= 16 , Gru= 32 , batch= 10 is:  0.09108816742897034\n",
      "Fri Oct 16 02:00:31 2020 \n",
      "\n",
      "loss on c_f= 8 , vaDense= 16 , Gru= 32 , batch= 15 is:  0.08696332901716232\n",
      "Fri Oct 16 02:01:23 2020 \n",
      "\n",
      "loss on c_f= 16 , vaDense= 8 , Gru= 8 , batch= 5 is:  0.09465720579028129\n",
      "Fri Oct 16 02:02:32 2020 \n",
      "\n",
      "loss on c_f= 16 , vaDense= 8 , Gru= 8 , batch= 10 is:  0.10331852108240128\n",
      "Fri Oct 16 02:03:24 2020 \n",
      "\n",
      "loss on c_f= 16 , vaDense= 8 , Gru= 8 , batch= 15 is:  0.0987323734164238\n",
      "Fri Oct 16 02:04:22 2020 \n",
      "\n",
      "loss on c_f= 16 , vaDense= 8 , Gru= 16 , batch= 5 is:  0.10450677335262298\n",
      "Fri Oct 16 02:05:32 2020 \n",
      "\n",
      "loss on c_f= 16 , vaDense= 8 , Gru= 16 , batch= 10 is:  0.09410974144935608\n",
      "Fri Oct 16 02:06:26 2020 \n",
      "\n",
      "loss on c_f= 16 , vaDense= 8 , Gru= 16 , batch= 15 is:  0.09002863109111786\n",
      "Fri Oct 16 02:07:19 2020 \n",
      "\n",
      "loss on c_f= 16 , vaDense= 8 , Gru= 32 , batch= 5 is:  0.0922038185596466\n",
      "Fri Oct 16 02:08:35 2020 \n",
      "\n",
      "loss on c_f= 16 , vaDense= 8 , Gru= 32 , batch= 10 is:  0.09793471157550812\n",
      "Fri Oct 16 02:09:32 2020 \n",
      "\n",
      "loss on c_f= 16 , vaDense= 8 , Gru= 32 , batch= 15 is:  0.08243272826075554\n",
      "Fri Oct 16 02:10:26 2020 \n",
      "\n",
      "min loss= 0.08243272826075554\n",
      "loss on c_f= 16 , vaDense= 16 , Gru= 8 , batch= 5 is:  0.10234136298298836\n",
      "Fri Oct 16 02:11:40 2020 \n",
      "\n",
      "loss on c_f= 16 , vaDense= 16 , Gru= 8 , batch= 10 is:  0.10986164480447769\n",
      "Fri Oct 16 02:12:35 2020 \n",
      "\n",
      "loss on c_f= 16 , vaDense= 16 , Gru= 8 , batch= 15 is:  0.08315936744213104\n",
      "Fri Oct 16 02:13:29 2020 \n",
      "\n",
      "loss on c_f= 16 , vaDense= 16 , Gru= 16 , batch= 5 is:  0.10275999620556832\n",
      "Fri Oct 16 02:14:39 2020 \n",
      "\n",
      "loss on c_f= 16 , vaDense= 16 , Gru= 16 , batch= 10 is:  0.10952928721904755\n",
      "Fri Oct 16 02:15:33 2020 \n",
      "\n",
      "loss on c_f= 16 , vaDense= 16 , Gru= 16 , batch= 15 is:  0.08624593153595925\n",
      "Fri Oct 16 02:16:34 2020 \n",
      "\n",
      "loss on c_f= 16 , vaDense= 16 , Gru= 32 , batch= 5 is:  0.10023254454135895\n",
      "Fri Oct 16 02:17:49 2020 \n",
      "\n",
      "loss on c_f= 16 , vaDense= 16 , Gru= 32 , batch= 10 is:  0.1012540589272976\n",
      "Fri Oct 16 02:18:44 2020 \n",
      "\n",
      "loss on c_f= 16 , vaDense= 16 , Gru= 32 , batch= 15 is:  0.09716052502393722\n",
      "Fri Oct 16 02:19:38 2020 \n",
      "\n"
     ]
    },
    {
     "ename": "NameError",
     "evalue": "name 'model' is not defined",
     "output_type": "error",
     "traceback": [
      "\u001b[1;31m---------------------------------------------------------------------------\u001b[0m",
      "\u001b[1;31mNameError\u001b[0m                                 Traceback (most recent call last)",
      "\u001b[1;32m<ipython-input-8-7b9dea9e4644>\u001b[0m in \u001b[0;36m<module>\u001b[1;34m()\u001b[0m\n\u001b[0;32m     29\u001b[0m     validation_data=(x_test, [y_a_test,y_v_test]),verbose=0)\n\u001b[0;32m     30\u001b[0m \u001b[1;33m\u001b[0m\u001b[0m\n\u001b[1;32m---> 31\u001b[1;33m \u001b[0mmodel\u001b[0m\u001b[1;33m.\u001b[0m\u001b[0msave\u001b[0m\u001b[1;33m(\u001b[0m\u001b[1;34m\"best_crnn\"\u001b[0m\u001b[1;33m)\u001b[0m\u001b[1;33m\u001b[0m\u001b[0m\n\u001b[0m",
      "\u001b[1;31mNameError\u001b[0m: name 'model' is not defined"
     ]
    }
   ],
   "source": [
    "print(time.asctime(time.localtime(time.time())))\n",
    "min_loss = 99999999999999\n",
    "min_config = {'cf':0,'vaDense':0,'gru':0,'bs':0}\n",
    "for conv_filters in (8,16):\n",
    "    for vaDense in (8,16):\n",
    "        for Gru in (8,16,32):\n",
    "            for batch_size in (5,10,15):\n",
    "                model_crnn = Crnn(conv_filters,vaDense,Gru)\n",
    "                model_crnn.fit(\n",
    "                    x_train,[y_a_train,y_v_train], \n",
    "                    epochs=15, batch_size=batch_size,\n",
    "                    validation_data=(x_test, [y_a_test,y_v_test]),verbose=0)\n",
    "                # verbose means shows log or not 0:nothing 1: epoch result + bar 2:only epoch result\n",
    "                print('loss on c_f=',conv_filters,\", vaDense=\",vaDense,\", Gru=\",Gru,\", batch=\",batch_size,\"is: \",\n",
    "                      model_crnn.evaluate(x_test,[y_a_test,y_v_test], verbose=0)[0])\n",
    "                print(time.asctime(time.localtime(time.time())),\"\\n\")\n",
    "                if model_crnn.evaluate(x_test,[y_a_test,y_v_test], verbose=0)[0]<min_loss:\n",
    "                    min_loss = model_crnn.evaluate(x_test,[y_a_test,y_v_test], verbose=0)[0]\n",
    "                    min_config['cf']= conv_filters\n",
    "                    min_config['vaDense'] = vaDense\n",
    "                    min_config['gru'] = Gru\n",
    "                    min_config['bs'] = batch_size\n",
    "                    print('min loss=', min_loss)\n",
    "                    \n",
    "model_crnn = Crnn(min_config['cf'],min_config['vaDense'],min_config['gru'])\n",
    "model_crnn.fit(\n",
    "    x_train,[y_a_train,y_v_train], \n",
    "    epochs=15, batch_size=min_config['bs'],\n",
    "    validation_data=(x_test, [y_a_test,y_v_test]),verbose=0)\n",
    "\n",
    "\n"
   ]
  },
  {
   "cell_type": "code",
   "execution_count": 9,
   "metadata": {},
   "outputs": [
    {
     "name": "stdout",
     "output_type": "stream",
     "text": [
      "WARNING:tensorflow:From E:\\anaconda3\\lib\\site-packages\\tensorflow_core\\python\\ops\\resource_variable_ops.py:1781: calling BaseResourceVariable.__init__ (from tensorflow.python.ops.resource_variable_ops) with constraint is deprecated and will be removed in a future version.\n",
      "Instructions for updating:\n",
      "If using Keras pass *_constraint arguments to layers.\n",
      "INFO:tensorflow:Assets written to: best_crnn\\assets\n",
      "{'cf': 16, 'vaDense': 8, 'gru': 32, 'bs': 15}\n"
     ]
    }
   ],
   "source": [
    "model_crnn.save(\"best_crnn\")\n",
    "print(min_config)"
   ]
  },
  {
   "cell_type": "code",
   "execution_count": null,
   "metadata": {},
   "outputs": [],
   "source": []
  }
 ],
 "metadata": {
  "kernelspec": {
   "display_name": "Python 3",
   "language": "python",
   "name": "python3"
  },
  "language_info": {
   "codemirror_mode": {
    "name": "ipython",
    "version": 3
   },
   "file_extension": ".py",
   "mimetype": "text/x-python",
   "name": "python",
   "nbconvert_exporter": "python",
   "pygments_lexer": "ipython3",
   "version": "3.6.5"
  }
 },
 "nbformat": 4,
 "nbformat_minor": 2
}
