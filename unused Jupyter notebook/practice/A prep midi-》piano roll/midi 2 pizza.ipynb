{
 "cells": [
  {
   "cell_type": "code",
   "execution_count": 1,
   "metadata": {},
   "outputs": [],
   "source": [
    "import pretty_midi\n",
    "import numpy as np\n",
    "import matplotlib.pyplot as plt\n",
    "import os\n",
    "import math\n",
    "import numpy as np\n",
    "np.set_printoptions(threshold=np.inf)"
   ]
  },
  {
   "cell_type": "code",
   "execution_count": 2,
   "metadata": {
    "code_folding": [
     32
    ]
   },
   "outputs": [],
   "source": [
    "def del_ht_empty(pn):\n",
    "    pn=pn.transpose()\n",
    "    while 1:\n",
    "        if sum(pn[:,0])==0:\n",
    "            pn=np.delete(pn,0, axis = 1)\n",
    "        else:\n",
    "            break\n",
    "\n",
    "    while 1:\n",
    "        if sum(pn[:,-1])==0:\n",
    "            pn=np.delete(pn,-1, axis = 1)\n",
    "        else:\n",
    "            break\n",
    "    \n",
    "    pn=pn.transpose()\n",
    "    return pn\n",
    "\n",
    "def GprimgBpn(pn):\n",
    "    primg=[]\n",
    "    for pni in pn:\n",
    "        k=0\n",
    "        for i in range(len(pni)-1,0,-1):#这里采用逆序因为旋律一般比和弦高 懒得处理和弦了\n",
    "            if pni[i]!=0:\n",
    "                primg.append(i)\n",
    "                k=1\n",
    "                break\n",
    "        if k==0:\n",
    "            primg.append(0)\n",
    "    # midi出来的piano roll不是一个0 1序列 反而是一堆0和一个奇怪的数字。这个奇怪的数字是什么？\n",
    "    # 这个奇怪的数字是力度。\n",
    "    return primg\n",
    "\n",
    "def GpizzaBmidi_10000(midi_data):\n",
    "    left=midi_data.instruments[0].get_piano_roll().transpose()\n",
    "    left=GprimgBpn(left)\n",
    "\n",
    "    right=midi_data.instruments[1].get_piano_roll().transpose()\n",
    "    right=GprimgBpn(right)\n",
    "\n",
    "    w=max(len(left),len(right))\n",
    "    while len(left)<w:\n",
    "        left.append(0)\n",
    "    while len(right)<w:\n",
    "        right.append(0)\n",
    "    for i in range(w):\n",
    "        left[i]=max(left[i],right[i])\n",
    "        \n",
    "    while left[0]==0:\n",
    "        del(left[0])\n",
    "    while left[-1]==0:\n",
    "        del(left[-1])\n",
    "    \n",
    "    position=0\n",
    "    while len(left)<10000:\n",
    "        left.append(left[position])\n",
    "        position+=1\n",
    "    left = np.asarray(left[0:10000])\n",
    "    left.shape = (1,10000)\n",
    "    return left\n",
    "\n",
    "def GpizzaBmidi_n_1024(midi_data):\n",
    "    left=midi_data.instruments[0].get_piano_roll().transpose()\n",
    "    left=GprimgBpn(left)\n",
    "\n",
    "    right=midi_data.instruments[1].get_piano_roll().transpose()\n",
    "    right=GprimgBpn(right)\n",
    "\n",
    "    w=max(len(left),len(right))\n",
    "    while len(left)<w:\n",
    "        left.append(0)\n",
    "    while len(right)<w:\n",
    "        right.append(0)\n",
    "    for i in range(w):\n",
    "        left[i]=max(left[i],right[i])\n",
    "        \n",
    "    while left[0]==0:\n",
    "        del(left[0])\n",
    "    while left[-1]==0:\n",
    "        del(left[-1])\n",
    "        \n",
    "    number_of_partition = math.floor(len(left)/1024)+1\n",
    "    \n",
    "    \n",
    "    position=0\n",
    "    while len(left)<number_of_partition*1024:\n",
    "        left.append(left[position])\n",
    "        position+=1\n",
    "    left = np.asarray(left[0:number_of_partition*1024])\n",
    "    left.shape = (number_of_partition,1024)\n",
    "    return left\n",
    "\n",
    "def GpizzaBmidi_n_1024_10(midi_data):\n",
    "    left=midi_data.instruments[0].get_piano_roll().transpose()\n",
    "    left=GprimgBpn(left)\n",
    "\n",
    "    right=midi_data.instruments[1].get_piano_roll().transpose()\n",
    "    right=GprimgBpn(right)\n",
    "\n",
    "    w=max(len(left),len(right))\n",
    "    while len(left)<w:\n",
    "        left.append(0)\n",
    "    while len(right)<w:\n",
    "        right.append(0)\n",
    "    for i in range(w):\n",
    "        left[i]=max(left[i],right[i])\n",
    "        \n",
    "    while left[0]==0:\n",
    "        del(left[0])\n",
    "    while left[-1]==0:\n",
    "        del(left[-1])\n",
    "        \n",
    "    number_of_partition = math.floor(len(left)/1024)+1\n",
    "    orginal_roll = left.copy()\n",
    "    \n",
    "    left = orginal_roll.copy()\n",
    "    position=0\n",
    "    while len(left)<number_of_partition*1024:\n",
    "        left.append(left[position])\n",
    "        position+=1\n",
    "    left = np.asarray(left[0:number_of_partition*1024])\n",
    "    left.shape = (number_of_partition,1024)\n",
    "    result = left.copy()\n",
    "    \n",
    "    for i in range(9):\n",
    "        for j in range(100):\n",
    "            orginal_roll.append(orginal_roll[0])\n",
    "            del(orginal_roll[0])\n",
    "        left = orginal_roll.copy()\n",
    "        position=0\n",
    "        while len(left)<number_of_partition*1024:\n",
    "            left.append(left[position])\n",
    "            position+=1\n",
    "        left = np.asarray(left[0:number_of_partition*1024])\n",
    "        left.shape = (number_of_partition,1024)\n",
    "        result = np.vstack((result,left))\n",
    "        \n",
    "    return result"
   ]
  },
  {
   "cell_type": "code",
   "execution_count": 5,
   "metadata": {},
   "outputs": [
    {
     "name": "stdout",
     "output_type": "stream",
     "text": [
      "2\n"
     ]
    }
   ],
   "source": [
    "midi_data = pretty_midi.PrettyMIDI('../0 dataset midi/appass_2.mid')\n",
    "print(len(midi_data.instruments))"
   ]
  },
  {
   "cell_type": "code",
   "execution_count": 8,
   "metadata": {
    "scrolled": true
   },
   "outputs": [
    {
     "name": "stdout",
     "output_type": "stream",
     "text": [
      "37\n"
     ]
    },
    {
     "data": {
      "image/png": "[encoded data removed]",
      "text/plain": [
       "<Figure size 432x288 with 1 Axes>"
      ]
     },
     "metadata": {
      "needs_background": "light"
     },
     "output_type": "display_data"
    },
    {
     "data": {
      "image/png": "[encoded data removed]",
      "text/plain": [
       "<Figure size 432x288 with 1 Axes>"
      ]
     },
     "metadata": {
      "needs_background": "light"
     },
     "output_type": "display_data"
    },
    {
     "data": {
      "image/png": "[encoded data removed]",
      "text/plain": [
       "<Figure size 432x288 with 1 Axes>"
      ]
     },
     "metadata": {
      "needs_background": "light"
     },
     "output_type": "display_data"
    },
    {
     "data": {
      "image/png": "[encoded data removed]",
      "text/plain": [
       "<Figure size 432x288 with 1 Axes>"
      ]
     },
     "metadata": {
      "needs_background": "light"
     },
     "output_type": "display_data"
    },
    {
     "data": {
      "image/png": "[encoded data removed]",
      "text/plain": [
       "<Figure size 432x288 with 1 Axes>"
      ]
     },
     "metadata": {
      "needs_background": "light"
     },
     "output_type": "display_data"
    },
    {
     "data": {
      "image/png": "[encoded data removed]",
      "text/plain": [
       "<Figure size 432x288 with 1 Axes>"
      ]
     },
     "metadata": {
      "needs_background": "light"
     },
     "output_type": "display_data"
    },
    {
     "data": {
      "image/png": "[encoded data removed]",
      "text/plain": [
       "<Figure size 432x288 with 1 Axes>"
      ]
     },
     "metadata": {
      "needs_background": "light"
     },
     "output_type": "display_data"
    },
    {
     "data": {
      "image/png": "[encoded data removed]",
      "text/plain": [
       "<Figure size 432x288 with 1 Axes>"
      ]
     },
     "metadata": {
      "needs_background": "light"
     },
     "output_type": "display_data"
    },
    {
     "data": {
      "image/png": "[encoded data removed]",
      "text/plain": [
       "<Figure size 432x288 with 1 Axes>"
      ]
     },
     "metadata": {
      "needs_background": "light"
     },
     "output_type": "display_data"
    },
    {
     "data": {
      "image/png": "[encoded data removed]",
      "text/plain": [
       "<Figure size 432x288 with 1 Axes>"
      ]
     },
     "metadata": {
      "needs_background": "light"
     },
     "output_type": "display_data"
    },
    {
     "data": {
      "image/png": "[encoded data removed]",
      "text/plain": [
       "<Figure size 432x288 with 1 Axes>"
      ]
     },
     "metadata": {
      "needs_background": "light"
     },
     "output_type": "display_data"
    },
    {
     "data": {
      "image/png": "[encoded data removed]",
      "text/plain": [
       "<Figure size 432x288 with 1 Axes>"
      ]
     },
     "metadata": {
      "needs_background": "light"
     },
     "output_type": "display_data"
    },
    {
     "data": {
      "image/png": "[encoded data removed]",
      "text/plain": [
       "<Figure size 432x288 with 1 Axes>"
      ]
     },
     "metadata": {
      "needs_background": "light"
     },
     "output_type": "display_data"
    },
    {
     "data": {
      "image/png": "[encoded data removed]",
      "text/plain": [
       "<Figure size 432x288 with 1 Axes>"
      ]
     },
     "metadata": {
      "needs_background": "light"
     },
     "output_type": "display_data"
    },
    {
     "data": {
      "image/png": "[encoded data removed]",
      "text/plain": [
       "<Figure size 432x288 with 1 Axes>"
      ]
     },
     "metadata": {
      "needs_background": "light"
     },
     "output_type": "display_data"
    },
    {
     "data": {
      "image/png": "[encoded data removed]",
      "text/plain": [
       "<Figure size 432x288 with 1 Axes>"
      ]
     },
     "metadata": {
      "needs_background": "light"
     },
     "output_type": "display_data"
    },
    {
     "data": {
      "image/png": "[encoded data removed]",
      "text/plain": [
       "<Figure size 432x288 with 1 Axes>"
      ]
     },
     "metadata": {
      "needs_background": "light"
     },
     "output_type": "display_data"
    },
    {
     "data": {
      "image/png": "[encoded data removed]",
      "text/plain": [
       "<Figure size 432x288 with 1 Axes>"
      ]
     },
     "metadata": {
      "needs_background": "light"
     },
     "output_type": "display_data"
    },
    {
     "data": {
      "image/png": "[encoded data removed]",
      "text/plain": [
       "<Figure size 432x288 with 1 Axes>"
      ]
     },
     "metadata": {
      "needs_background": "light"
     },
     "output_type": "display_data"
    },
    {
     "data": {
      "image/png": "[encoded data removed]",
      "text/plain": [
       "<Figure size 432x288 with 1 Axes>"
      ]
     },
     "metadata": {
      "needs_background": "light"
     },
     "output_type": "display_data"
    },
    {
     "data": {
      "image/png": "[encoded data removed]",
      "text/plain": [
       "<Figure size 432x288 with 1 Axes>"
      ]
     },
     "metadata": {
      "needs_background": "light"
     },
     "output_type": "display_data"
    },
    {
     "data": {
      "image/png": "[encoded data removed]",
      "text/plain": [
       "<Figure size 432x288 with 1 Axes>"
      ]
     },
     "metadata": {
      "needs_background": "light"
     },
     "output_type": "display_data"
    },
    {
     "data": {
      "image/png": "[encoded data removed]",
      "text/plain": [
       "<Figure size 432x288 with 1 Axes>"
      ]
     },
     "metadata": {
      "needs_background": "light"
     },
     "output_type": "display_data"
    },
    {
     "data": {
      "image/png": "[encoded data removed]",
      "text/plain": [
       "<Figure size 432x288 with 1 Axes>"
      ]
     },
     "metadata": {
      "needs_background": "light"
     },
     "output_type": "display_data"
    },
    {
     "data": {
      "image/png": "[encoded data removed]",
      "text/plain": [
       "<Figure size 432x288 with 1 Axes>"
      ]
     },
     "metadata": {
      "needs_background": "light"
     },
     "output_type": "display_data"
    },
    {
     "data": {
      "image/png": "[encoded data removed]",
      "text/plain": [
       "<Figure size 432x288 with 1 Axes>"
      ]
     },
     "metadata": {
      "needs_background": "light"
     },
     "output_type": "display_data"
    },
    {
     "data": {
      "image/png": "[encoded data removed]",
      "text/plain": [
       "<Figure size 432x288 with 1 Axes>"
      ]
     },
     "metadata": {
      "needs_background": "light"
     },
     "output_type": "display_data"
    },
    {
     "data": {
      "image/png": "[encoded data removed]",
      "text/plain": [
       "<Figure size 432x288 with 1 Axes>"
      ]
     },
     "metadata": {
      "needs_background": "light"
     },
     "output_type": "display_data"
    },
    {
     "data": {
      "image/png": "[encoded data removed]",
      "text/plain": [
       "<Figure size 432x288 with 1 Axes>"
      ]
     },
     "metadata": {
      "needs_background": "light"
     },
     "output_type": "display_data"
    },
    {
     "data": {
      "image/png": "[encoded data removed]",
      "text/plain": [
       "<Figure size 432x288 with 1 Axes>"
      ]
     },
     "metadata": {
      "needs_background": "light"
     },
     "output_type": "display_data"
    },
    {
     "data": {
      "image/png": "[encoded data removed]",
      "text/plain": [
       "<Figure size 432x288 with 1 Axes>"
      ]
     },
     "metadata": {
      "needs_background": "light"
     },
     "output_type": "display_data"
    },
    {
     "data": {
      "image/png": "[encoded data removed]",
      "text/plain": [
       "<Figure size 432x288 with 1 Axes>"
      ]
     },
     "metadata": {
      "needs_background": "light"
     },
     "output_type": "display_data"
    },
    {
     "data": {
      "image/png": "[encoded data removed]",
      "text/plain": [
       "<Figure size 432x288 with 1 Axes>"
      ]
     },
     "metadata": {
      "needs_background": "light"
     },
     "output_type": "display_data"
    },
    {
     "data": {
      "image/png": "[encoded data removed]",
      "text/plain": [
       "<Figure size 432x288 with 1 Axes>"
      ]
     },
     "metadata": {
      "needs_background": "light"
     },
     "output_type": "display_data"
    },
    {
     "data": {
      "image/png": "[encoded data removed]",
      "text/plain": [
       "<Figure size 432x288 with 1 Axes>"
      ]
     },
     "metadata": {
      "needs_background": "light"
     },
     "output_type": "display_data"
    },
    {
     "data": {
      "image/png": "[encoded data removed]",
      "text/plain": [
       "<Figure size 432x288 with 1 Axes>"
      ]
     },
     "metadata": {
      "needs_background": "light"
     },
     "output_type": "display_data"
    },
    {
     "data": {
      "image/png": "[encoded data removed]",
      "text/plain": [
       "<Figure size 432x288 with 1 Axes>"
      ]
     },
     "metadata": {
      "needs_background": "light"
     },
     "output_type": "display_data"
    },
    {
     "name": "stdout",
     "output_type": "stream",
     "text": [
      "________________________________________________\n"
     ]
    },
    {
     "ename": "IndexError",
     "evalue": "index 37 is out of bounds for axis 0 with size 37",
     "output_type": "error",
     "traceback": [
      "\u001b[1;31m---------------------------------------------------------------------------\u001b[0m",
      "\u001b[1;31mIndexError\u001b[0m                                Traceback (most recent call last)",
      "\u001b[1;32m<ipython-input-8-ef0fa53ad520>\u001b[0m in \u001b[0;36m<module>\u001b[1;34m()\u001b[0m\n\u001b[0;32m      9\u001b[0m \u001b[1;32mfor\u001b[0m \u001b[0mi\u001b[0m \u001b[1;32min\u001b[0m \u001b[0mrange\u001b[0m\u001b[1;33m(\u001b[0m\u001b[1;36m10\u001b[0m\u001b[1;33m)\u001b[0m\u001b[1;33m:\u001b[0m\u001b[1;33m\u001b[0m\u001b[0m\n\u001b[0;32m     10\u001b[0m     \u001b[1;32mfor\u001b[0m \u001b[0mj\u001b[0m \u001b[1;32min\u001b[0m \u001b[0mrange\u001b[0m\u001b[1;33m(\u001b[0m\u001b[1;36m37\u001b[0m\u001b[1;33m)\u001b[0m\u001b[1;33m:\u001b[0m\u001b[1;33m\u001b[0m\u001b[0m\n\u001b[1;32m---> 11\u001b[1;33m         \u001b[0mplt\u001b[0m\u001b[1;33m.\u001b[0m\u001b[0mimshow\u001b[0m\u001b[1;33m(\u001b[0m\u001b[0mpizza\u001b[0m\u001b[1;33m[\u001b[0m\u001b[0mi\u001b[0m\u001b[1;33m*\u001b[0m\u001b[1;36m37\u001b[0m\u001b[1;33m+\u001b[0m\u001b[0mj\u001b[0m\u001b[1;33m]\u001b[0m\u001b[1;33m/\u001b[0m\u001b[1;36m128\u001b[0m\u001b[1;33m)\u001b[0m\u001b[1;33m\u001b[0m\u001b[0m\n\u001b[0m\u001b[0;32m     12\u001b[0m         \u001b[0mplt\u001b[0m\u001b[1;33m.\u001b[0m\u001b[0mshow\u001b[0m\u001b[1;33m(\u001b[0m\u001b[1;33m)\u001b[0m\u001b[1;33m\u001b[0m\u001b[0m\n\u001b[0;32m     13\u001b[0m     \u001b[0mprint\u001b[0m\u001b[1;33m(\u001b[0m\u001b[1;34m\"________________________________________________\"\u001b[0m\u001b[1;33m)\u001b[0m\u001b[1;33m\u001b[0m\u001b[0m\n",
      "\u001b[1;31mIndexError\u001b[0m: index 37 is out of bounds for axis 0 with size 37"
     ]
    }
   ],
   "source": [
    "# pizza = GpizzaBmidi_10000(midi_data)\n",
    "# plt.imshow(pizza/128)\n",
    "# plt.show()\n",
    "# print(pizza[0:1])\n",
    "\n",
    "pizza = GpizzaBmidi_n_1024(midi_data)\n",
    "print(pizza.shape[0])\n",
    "pizza.shape = (37,32,32)\n",
    "for i in range(10):\n",
    "    for j in range(37):\n",
    "        plt.imshow(pizza[i*37+j]/128)\n",
    "        plt.show()\n",
    "    print(\"________________________________________________\")\n",
    "#     print(pizza[i])\n",
    "    "
   ]
  },
  {
   "cell_type": "code",
   "execution_count": 15,
   "metadata": {
    "scrolled": true
   },
   "outputs": [
    {
     "name": "stdout",
     "output_type": "stream",
     "text": [
      "0 (10, 1024) 10\n",
      "1 (23, 1024) 23\n",
      "2 (40, 1024) 40\n",
      "3 (59, 1024) 59\n",
      "4 (71, 1024) 71\n",
      "5 (86, 1024) 86\n",
      "6 (110, 1024) 110\n",
      "7 (134, 1024) 134\n",
      "8 (159, 1024) 159\n",
      "9 (181, 1024) 181\n",
      "10 (211, 1024) 211\n",
      "11 (235, 1024) 235\n",
      "12 (250, 1024) 250\n",
      "13 (277, 1024) 277\n",
      "14 (332, 1024) 332\n",
      "15 (369, 1024) 369\n",
      "16 (415, 1024) 415\n",
      "17 (427, 1024) 427\n",
      "18 (435, 1024) 435\n",
      "19 (442, 1024) 442\n",
      "20 (500, 1024) 500\n",
      "21 (514, 1024) 514\n",
      "22 (589, 1024) 589\n",
      "23 (652, 1024) 652\n",
      "24 (686, 1024) 686\n",
      "25 (703, 1024) 703\n",
      "26 (733, 1024) 733\n",
      "27 (772, 1024) 772\n",
      "28 (810, 1024) 810\n",
      "29 (832, 1024) 832\n",
      "30 (871, 1024) 871\n",
      "31 (903, 1024) 903\n",
      "32 (921, 1024) 921\n",
      "33 (949, 1024) 949\n",
      "34 (978, 1024) 978\n",
      "35 (1027, 1024) 1027\n",
      "36 (1053, 1024) 1053\n",
      "37 (1069, 1024) 1069\n",
      "38 (1085, 1024) 1085\n",
      "39 (1104, 1024) 1104\n",
      "40 (1114, 1024) 1114\n",
      "41 (1125, 1024) 1125\n",
      "42 (1137, 1024) 1137\n",
      "43 (1164, 1024) 1164\n",
      "44 (1186, 1024) 1186\n",
      "45 (1254, 1024) 1254\n",
      "46 (1281, 1024) 1281\n",
      "47 (1319, 1024) 1319\n",
      "48 (1360, 1024) 1360\n",
      "49 (1376, 1024) 1376\n",
      "50 (1393, 1024) 1393\n",
      "51 (1422, 1024) 1422\n",
      "52 (1431, 1024) 1431\n",
      "53 (1439, 1024) 1439\n",
      "54 (1446, 1024) 1446\n",
      "55 (1454, 1024) 1454\n",
      "56 (1463, 1024) 1463\n",
      "57 (1474, 1024) 1474\n",
      "58 (1484, 1024) 1484\n",
      "59 (1493, 1024) 1493\n",
      "60 (1501, 1024) 1501\n",
      "61 (1504, 1024) 1504\n",
      "62 (1507, 1024) 1507\n",
      "63 (1510, 1024) 1510\n",
      "64 (1516, 1024) 1516\n",
      "65 (1531, 1024) 1531\n",
      "66 (1534, 1024) 1534\n",
      "67 (1561, 1024) 1561\n",
      "68 (1567, 1024) 1567\n",
      "69 (1583, 1024) 1583\n",
      "70 (1588, 1024) 1588\n",
      "71 (1595, 1024) 1595\n",
      "72 (1607, 1024) 1607\n",
      "73 (1616, 1024) 1616\n",
      "74 (1627, 1024) 1627\n",
      "75 (1631, 1024) 1631\n",
      "76 (1636, 1024) 1636\n",
      "77 (1649, 1024) 1649\n",
      "78 (1654, 1024) 1654\n",
      "79 (1664, 1024) 1664\n",
      "80 (1667, 1024) 1667\n",
      "81 (1676, 1024) 1676\n",
      "82 (1680, 1024) 1680\n",
      "83 (1689, 1024) 1689\n",
      "84 (1698, 1024) 1698\n",
      "85 (1709, 1024) 1709\n",
      "86 (1718, 1024) 1718\n",
      "87 (1732, 1024) 1732\n",
      "88 (1785, 1024) 1785\n",
      "89 (1798, 1024) 1798\n",
      "90 (1817, 1024) 1817\n",
      "91 (1831, 1024) 1831\n",
      "92 (1840, 1024) 1840\n",
      "93 (1850, 1024) 1850\n",
      "94 (1858, 1024) 1858\n",
      "95 (1886, 1024) 1886\n",
      "96 (1916, 1024) 1916\n",
      "97 (1930, 1024) 1930\n",
      "98 (1961, 1024) 1961\n",
      "99 (2000, 1024) 2000\n",
      "100 (2039, 1024) 2039\n",
      "101 (2083, 1024) 2083\n",
      "102 (2091, 1024) 2091\n",
      "103 (2126, 1024) 2126\n",
      "104 (2153, 1024) 2153\n",
      "105 (2167, 1024) 2167\n",
      "106 (2183, 1024) 2183\n",
      "107 (2214, 1024) 2214\n",
      "108 (2265, 1024) 2265\n",
      "109 (2274, 1024) 2274\n",
      "110 (2281, 1024) 2281\n",
      "111 (2287, 1024) 2287\n",
      "112 (2299, 1024) 2299\n",
      "113 (2306, 1024) 2306\n",
      "114 (2316, 1024) 2316\n",
      "115 (2333, 1024) 2333\n",
      "116 (2342, 1024) 2342\n",
      "117 (2350, 1024) 2350\n",
      "118 (2370, 1024) 2370\n",
      "119 (2381, 1024) 2381\n",
      "120 (2392, 1024) 2392\n",
      "121 (2421, 1024) 2421\n",
      "122 (2432, 1024) 2432\n",
      "123 (2450, 1024) 2450\n",
      "124 (2482, 1024) 2482\n",
      "125 (2496, 1024) 2496\n",
      "126 (2511, 1024) 2511\n",
      "127 (2530, 1024) 2530\n",
      "128 (2546, 1024) 2546\n",
      "129 (2561, 1024) 2561\n",
      "130 (2575, 1024) 2575\n",
      "131 (2600, 1024) 2600\n",
      "132 (2624, 1024) 2624\n",
      "133 (2641, 1024) 2641\n",
      "134 (2656, 1024) 2656\n",
      "135 (2672, 1024) 2672\n",
      "136 (2681, 1024) 2681\n",
      "137 (2702, 1024) 2702\n",
      "138 (2721, 1024) 2721\n",
      "139 (2749, 1024) 2749\n",
      "140 (2768, 1024) 2768\n",
      "141 (2784, 1024) 2784\n",
      "142 (2793, 1024) 2793\n",
      "143 (2803, 1024) 2803\n",
      "144 (2809, 1024) 2809\n",
      "145 (2814, 1024) 2814\n",
      "146 (2823, 1024) 2823\n",
      "147 (2841, 1024) 2841\n",
      "148 (2866, 1024) 2866\n",
      "149 (2882, 1024) 2882\n",
      "150 (2892, 1024) 2892\n",
      "151 (2907, 1024) 2907\n",
      "152 (2918, 1024) 2918\n",
      "153 (2928, 1024) 2928\n",
      "154 (2961, 1024) 2961\n",
      "155 (2976, 1024) 2976\n",
      "156 (3009, 1024) 3009\n",
      "157 (3041, 1024) 3041\n",
      "158 (3065, 1024) 3065\n",
      "159 (3099, 1024) 3099\n",
      "160 (3138, 1024) 3138\n",
      "161 (3153, 1024) 3153\n",
      "162 (3190, 1024) 3190\n",
      "163 (3205, 1024) 3205\n",
      "164 (3235, 1024) 3235\n",
      "165 (3242, 1024) 3242\n",
      "166 (3256, 1024) 3256\n",
      "167 (3265, 1024) 3265\n",
      "168 (3277, 1024) 3277\n",
      "169 (3283, 1024) 3283\n",
      "170 (3292, 1024) 3292\n",
      "171 (3296, 1024) 3296\n",
      "172 (3311, 1024) 3311\n",
      "173 (3328, 1024) 3328\n",
      "174 (3333, 1024) 3333\n",
      "175 (3372, 1024) 3372\n",
      "176 (3390, 1024) 3390\n",
      "177 (3439, 1024) 3439\n",
      "178 (3538, 1024) 3538\n",
      "179 (3566, 1024) 3566\n",
      "180 (3597, 1024) 3597\n",
      "181 (3622, 1024) 3622\n",
      "182 (3634, 1024) 3634\n",
      "183 (3652, 1024) 3652\n",
      "184 (3683, 1024) 3683\n",
      "185 (3720, 1024) 3720\n",
      "186 (3740, 1024) 3740\n",
      "187 (3770, 1024) 3770\n",
      "188 (3794, 1024) 3794\n",
      "189 (3846, 1024) 3846\n",
      "190 (3908, 1024) 3908\n",
      "191 (3936, 1024) 3936\n",
      "192 (3987, 1024) 3987\n",
      "193 (4022, 1024) 4022\n",
      "194 (4038, 1024) 4038\n",
      "195 (4055, 1024) 4055\n",
      "196 (4069, 1024) 4069\n",
      "197 (4080, 1024) 4080\n",
      "198 (4098, 1024) 4098\n",
      "199 (4114, 1024) 4114\n",
      "200 (4139, 1024) 4139\n",
      "201 (4152, 1024) 4152\n",
      "202 (4163, 1024) 4163\n",
      "203 (4179, 1024) 4179\n",
      "204 (4191, 1024) 4191\n",
      "205 (4206, 1024) 4206\n",
      "206 (4224, 1024) 4224\n",
      "207 (4232, 1024) 4232\n",
      "208 (4247, 1024) 4247\n",
      "209 (4283, 1024) 4283\n",
      "210 (4296, 1024) 4296\n",
      "211 (4337, 1024) 4337\n",
      "212 (4352, 1024) 4352\n",
      "213 (4373, 1024) 4373\n",
      "214 (4402, 1024) 4402\n",
      "215 (4411, 1024) 4411\n",
      "216 (4428, 1024) 4428\n",
      "217 (4438, 1024) 4438\n",
      "218 (4450, 1024) 4450\n",
      "219 (4486, 1024) 4486\n",
      "220 (4529, 1024) 4529\n",
      "221 (4555, 1024) 4555\n",
      "222 (4583, 1024) 4583\n",
      "223 (4619, 1024) 4619\n",
      "224 (4672, 1024) 4672\n",
      "225 (4711, 1024) 4711\n",
      "226 (4759, 1024) 4759\n",
      "227 (4841, 1024) 4841\n",
      "228 (4877, 1024) 4877\n",
      "229 (4896, 1024) 4896\n",
      "230 (4952, 1024) 4952\n",
      "231 (4978, 1024) 4978\n",
      "232 (5036, 1024) 5036\n",
      "233 (5098, 1024) 5098\n",
      "234 (5150, 1024) 5150\n",
      "235 (5184, 1024) 5184\n",
      "236 (5210, 1024) 5210\n",
      "237 (5244, 1024) 5244\n",
      "238 (5255, 1024) 5255\n",
      "239 (5302, 1024) 5302\n",
      "240 (5347, 1024) 5347\n",
      "241 (5367, 1024) 5367\n",
      "242 (5422, 1024) 5422\n",
      "243 (5452, 1024) 5452\n",
      "244 (5477, 1024) 5477\n",
      "245 (5496, 1024) 5496\n",
      "246 (5519, 1024) 5519\n",
      "247 (5539, 1024) 5539\n",
      "248 (5552, 1024) 5552\n",
      "249 (5559, 1024) 5559\n",
      "250 (5584, 1024) 5584\n",
      "251 (5594, 1024) 5594\n",
      "252 (5605, 1024) 5605\n",
      "253 (5620, 1024) 5620\n",
      "254 (5644, 1024) 5644\n",
      "255 (5671, 1024) 5671\n",
      "256 (5701, 1024) 5701\n",
      "257 (5735, 1024) 5735\n",
      "258 (5770, 1024) 5770\n",
      "259 (5820, 1024) 5820\n",
      "260 (5872, 1024) 5872\n",
      "261 (5931, 1024) 5931\n",
      "262 (5987, 1024) 5987\n",
      "263 (6041, 1024) 6041\n",
      "264 (6092, 1024) 6092\n",
      "265 (6130, 1024) 6130\n",
      "266 (6196, 1024) 6196\n",
      "267 (6229, 1024) 6229\n",
      "268 (6264, 1024) 6264\n",
      "269 (6305, 1024) 6305\n",
      "270 (6331, 1024) 6331\n",
      "271 (6352, 1024) 6352\n",
      "272 (6481, 1024) 6481\n",
      "273 (6531, 1024) 6531\n",
      "274 (6554, 1024) 6554\n",
      "275 (6601, 1024) 6601\n",
      "276 (6647, 1024) 6647\n",
      "277 (6674, 1024) 6674\n",
      "278 (6708, 1024) 6708\n",
      "279 (6750, 1024) 6750\n",
      "280 (6777, 1024) 6777\n",
      "281 (6809, 1024) 6809\n",
      "282 (6820, 1024) 6820\n",
      "283 (6850, 1024) 6850\n",
      "284 (6862, 1024) 6862\n",
      "285 (6893, 1024) 6893\n",
      "286 (6930, 1024) 6930\n",
      "287 (7003, 1024) 7003\n",
      "288 (7025, 1024) 7025\n",
      "289 (7057, 1024) 7057\n",
      "290 (7065, 1024) 7065\n",
      "291 (7072, 1024) 7072\n",
      "292 (7080, 1024) 7080\n",
      "293 (7089, 1024) 7089\n",
      "294 (7097, 1024) 7097\n",
      "295 (7103, 1024) 7103\n",
      "296 (7107, 1024) 7107\n",
      "297 (7111, 1024) 7111\n",
      "298 (7117, 1024) 7117\n",
      "299 (7122, 1024) 7122\n",
      "300 (7135, 1024) 7135\n",
      "301 (7142, 1024) 7142\n",
      "302 (7146, 1024) 7146\n",
      "303 (7162, 1024) 7162\n",
      "304 (7205, 1024) 7205\n",
      "305 (7230, 1024) 7230\n",
      "306 (7250, 1024) 7250\n",
      "307 (7270, 1024) 7270\n",
      "308 (7294, 1024) 7294\n",
      "309 (7306, 1024) 7306\n",
      "310 (7329, 1024) 7329\n",
      "311 (7334, 1024) 7334\n",
      "312 (7345, 1024) 7345\n",
      "313 (7358, 1024) 7358\n",
      "314 (7377, 1024) 7377\n",
      "315 (7401, 1024) 7401\n",
      "316 (7417, 1024) 7417\n",
      "317 (7445, 1024) 7445\n",
      "318 (7456, 1024) 7456\n",
      "319 (7479, 1024) 7479\n",
      "320 (7493, 1024) 7493\n",
      "321 (7512, 1024) 7512\n",
      "322 (7530, 1024) 7530\n",
      "323 (7549, 1024) 7549\n",
      "324 (7565, 1024) 7565\n",
      "325 (7626, 1024) 7626\n",
      "326 (7651, 1024) 7651\n",
      "327 (7708, 1024) 7708\n"
     ]
    }
   ],
   "source": [
    "work_dir = 'C:\\\\Users\\\\Arnold\\\\Desktop\\\\4560\\\\practice\\\\0 dataset midi'\n",
    "\n",
    "x_data = []\n",
    "y_data = []\n",
    "labellist = []\n",
    "labelnumber = 0\n",
    "flag_first_data = 0\n",
    "\n",
    "for parent, dirnames, filenames in os.walk(work_dir,  followlinks=True):\n",
    "    for filename in filenames:\n",
    "        if filename.endswith(\".mid\"):\n",
    "            file_path = os.path.join(parent, filename)\n",
    "            midi = pretty_midi.PrettyMIDI(file_path)\n",
    "            data = GpizzaBmidi_n_1024(midi)\n",
    "\n",
    "            if flag_first_data == 0:\n",
    "                x_data = data\n",
    "                flag_first_data = 1\n",
    "            else:\n",
    "                x_data = np.vstack((x_data,data))\n",
    "            labellist.append(filename)\n",
    "            for i in range(data.shape[0]):\n",
    "                y_data.append(labelnumber)\n",
    "            labelnumber+=1\n",
    "\n",
    "            print(y_data[-1],x_data.shape,len(y_data))"
   ]
  },
  {
   "cell_type": "code",
   "execution_count": 21,
   "metadata": {},
   "outputs": [],
   "source": [
    "np.savetxt(r\"C:\\Users\\Arnold\\Desktop\\4560\\practice\\0 dataset midi\\0 x_data_n_1024.txt\",\n",
    "           x_data,fmt='%d',delimiter=',')"
   ]
  },
  {
   "cell_type": "code",
   "execution_count": 22,
   "metadata": {
    "scrolled": true
   },
   "outputs": [],
   "source": [
    "a_y_data = np.zeros((1,len(y_data)),dtype=int)\n",
    "for i in range(len(y_data)):\n",
    "    a_y_data[0,i]=y_data[i]\n",
    "np.savetxt(r\"C:\\Users\\Arnold\\Desktop\\4560\\practice\\0 dataset midi\\0 y_data_n_1024.txt\",\n",
    "           a_y_data,fmt='%d',delimiter=',')"
   ]
  },
  {
   "cell_type": "code",
   "execution_count": 23,
   "metadata": {},
   "outputs": [],
   "source": [
    "a_labellist = np.zeros((1,len(labellist)),dtype=str)\n",
    "for i in range(len(labellist)):\n",
    "    a_labellist[0,i]=labellist[i]\n",
    "np.savetxt(r\"C:\\Users\\Arnold\\Desktop\\4560\\practice\\0 dataset midi\\0 labellist_n_1024.txt\",\n",
    "           labellist,fmt='%s',delimiter=',')"
   ]
  },
  {
   "cell_type": "code",
   "execution_count": null,
   "metadata": {},
   "outputs": [],
   "source": []
  }
 ],
 "metadata": {
  "kernelspec": {
   "display_name": "Python 3",
   "language": "python",
   "name": "python3"
  },
  "language_info": {
   "codemirror_mode": {
    "name": "ipython",
    "version": 3
   },
   "file_extension": ".py",
   "mimetype": "text/x-python",
   "name": "python",
   "nbconvert_exporter": "python",
   "pygments_lexer": "ipython3",
   "version": "3.6.5"
  }
 },
 "nbformat": 4,
 "nbformat_minor": 2
}
